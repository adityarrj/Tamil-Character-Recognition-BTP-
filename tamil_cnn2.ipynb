{
 "cells": [
  {
   "cell_type": "code",
   "execution_count": 17,
   "metadata": {},
   "outputs": [],
   "source": [
    "import os\n",
    "import h5py\n",
    "import numpy as np\n",
    "from keras.preprocessing.image import ImageDataGenerator\n",
    "from keras import optimizers\n",
    "from tensorflow.keras.models import Sequential\n",
    "from tensorflow.keras.layers import Convolution2D,MaxPooling2D,Activation, Dropout, Flatten, Dense, BatchNormalization"
   ]
  },
  {
   "cell_type": "code",
   "execution_count": 18,
   "metadata": {},
   "outputs": [],
   "source": [
    "trainDataGen = ImageDataGenerator(\n",
    "\t\trotation_range = 5,\n",
    "\t\twidth_shift_range = 0.1,\n",
    "\t\theight_shift_range = 0.1,\n",
    "\t\trescale = 1.0/255,\n",
    "\t\tshear_range = 0.2,\n",
    "\t\tzoom_range = 0.2,\t\t\n",
    "\t\thorizontal_flip = False,\n",
    "\t\tfill_mode = 'nearest')"
   ]
  },
  {
   "cell_type": "code",
   "execution_count": 19,
   "metadata": {},
   "outputs": [
    {
     "name": "stdout",
     "output_type": "stream",
     "text": [
      "Found 61776 images belonging to 156 classes.\n"
     ]
    }
   ],
   "source": [
    "test_datagen = ImageDataGenerator(rescale=1./255)\n",
    "trainGenerator = trainDataGen.flow_from_directory(\n",
    "\t\t\t\"D:/tamil_noninverted/Train\",\n",
    "\t\t\ttarget_size = (64,64),\n",
    "\t\t\tbatch_size = 64,\n",
    "\t\t\tcolor_mode = \"grayscale\",\n",
    "\t\t\tclass_mode = \"categorical\")"
   ]
  },
  {
   "cell_type": "code",
   "execution_count": 20,
   "metadata": {},
   "outputs": [],
   "source": [
    "prev = \"\"\n",
    "labels = []\n",
    "for x in range(0,156):\n",
    "    labels.append(str(x))\n",
    "count = 0;"
   ]
  },
  {
   "cell_type": "code",
   "execution_count": 21,
   "metadata": {},
   "outputs": [
    {
     "name": "stdout",
     "output_type": "stream",
     "text": [
      "Found 10920 images belonging to 156 classes.\n"
     ]
    }
   ],
   "source": [
    "validation_generator = test_datagen.flow_from_directory(\n",
    "\t\t\t\"D:/tamil_noninverted/Test\",\n",
    "\t\t\ttarget_size=(64,64),\n",
    "\t\t\tbatch_size=64,\n",
    "\t\t\tcolor_mode = \"grayscale\",\n",
    "\t\t\tclass_mode= 'categorical')\n",
    "\t\t\t\n",
    "model = Sequential()"
   ]
  },
  {
   "cell_type": "code",
   "execution_count": 22,
   "metadata": {
    "scrolled": true
   },
   "outputs": [
    {
     "name": "stdout",
     "output_type": "stream",
     "text": [
      "Model: \"sequential_2\"\n",
      "_________________________________________________________________\n",
      "Layer (type)                 Output Shape              Param #   \n",
      "=================================================================\n",
      "conv2d_8 (Conv2D)            (None, 62, 62, 32)        320       \n",
      "_________________________________________________________________\n",
      "batch_normalization_12 (Batc (None, 62, 62, 32)        128       \n",
      "_________________________________________________________________\n",
      "max_pooling2d_8 (MaxPooling2 (None, 31, 31, 32)        0         \n",
      "_________________________________________________________________\n",
      "conv2d_9 (Conv2D)            (None, 29, 29, 32)        9248      \n",
      "_________________________________________________________________\n",
      "batch_normalization_13 (Batc (None, 29, 29, 32)        128       \n",
      "_________________________________________________________________\n",
      "max_pooling2d_9 (MaxPooling2 (None, 15, 15, 32)        0         \n",
      "_________________________________________________________________\n",
      "conv2d_10 (Conv2D)           (None, 13, 13, 64)        18496     \n",
      "_________________________________________________________________\n",
      "batch_normalization_14 (Batc (None, 13, 13, 64)        256       \n",
      "_________________________________________________________________\n",
      "max_pooling2d_10 (MaxPooling (None, 7, 7, 64)          0         \n",
      "_________________________________________________________________\n",
      "conv2d_11 (Conv2D)           (None, 5, 5, 64)          36928     \n",
      "_________________________________________________________________\n",
      "batch_normalization_15 (Batc (None, 5, 5, 64)          256       \n",
      "_________________________________________________________________\n",
      "max_pooling2d_11 (MaxPooling (None, 3, 3, 64)          0         \n",
      "_________________________________________________________________\n",
      "flatten_2 (Flatten)          (None, 576)               0         \n",
      "_________________________________________________________________\n",
      "dense_6 (Dense)              (None, 128)               73856     \n",
      "_________________________________________________________________\n",
      "batch_normalization_16 (Batc (None, 128)               512       \n",
      "_________________________________________________________________\n",
      "dense_7 (Dense)              (None, 64)                8256      \n",
      "_________________________________________________________________\n",
      "batch_normalization_17 (Batc (None, 64)                256       \n",
      "_________________________________________________________________\n",
      "dense_8 (Dense)              (None, 156)               10140     \n",
      "=================================================================\n",
      "Total params: 158,780\n",
      "Trainable params: 158,012\n",
      "Non-trainable params: 768\n",
      "_________________________________________________________________\n",
      "None\n"
     ]
    }
   ],
   "source": [
    "model.add(Convolution2D(filters = 32,\n",
    "\t\t\tkernel_size = (3,3),\n",
    "\t\t\tstrides = 1,\n",
    "\t\t\tactivation = \"relu\",\n",
    "\t\t\tinput_shape = (64,64,1)))\n",
    "\n",
    "model.add(BatchNormalization())\n",
    "#model.add(Dropout(0.25))\n",
    "model.add(MaxPooling2D(pool_size=(2, 2),\n",
    "\t\t\tstrides=(2, 2),\n",
    "\t\t\tpadding=\"same\"))\n",
    "\n",
    "#Layer2-------------------------------------------------------------\n",
    "model.add(Convolution2D(filters = 32,\n",
    "\t\t\tkernel_size = (3,3),\n",
    "\t\t\tstrides = 1,\n",
    "\t\t\tactivation = \"relu\",\n",
    "\t\t\tinput_shape = (64,64,1)))\n",
    "model.add(BatchNormalization())\n",
    "#model.add(MaxPooling2D())\n",
    "model.add(MaxPooling2D(pool_size=(2, 2),\n",
    "\t\t\tstrides=(2, 2),\n",
    "\t\t\tpadding=\"same\"))\n",
    "#model.add(Dropout(0.25))\n",
    "\n",
    "\n",
    "#Layers 3-----------------------------------------------------------\t\n",
    "model.add(Convolution2D(filters = 64,\n",
    "\t\t\tkernel_size = (3,3),\n",
    "\t\t\tstrides = 1,\n",
    "\t\t\tactivation = \"relu\"))\n",
    "model.add(BatchNormalization())\n",
    "model.add(MaxPooling2D(pool_size=(2, 2),\n",
    "\t\t\tstrides=(2, 2),\n",
    "\t\t\tpadding=\"same\"))\n",
    "\n",
    "\n",
    "#Layer 4--------------------------------------------------\n",
    "model.add(Convolution2D(filters = 64,\n",
    "\t\t\tkernel_size = (3,3),\n",
    "\t\t\tstrides= 1,\n",
    "\t\t\tactivation = \"relu\"))\n",
    "model.add(BatchNormalization())\n",
    "model.add(MaxPooling2D(pool_size=(2, 2),\n",
    "\t\t\tstrides=(2, 2),\n",
    "\t\t\tpadding=\"same\"))\t\t\t\n",
    "\t\t\t\n",
    "#model.add(Dropout(0.2))\n",
    "\n",
    "\n",
    "#Layer 5------------------------------------------------------------\n",
    "'''model.add(Convolution2D(filters = 64,\n",
    "\t\t\tkernel_size = (2,2),\n",
    "\t\t\tstrides= 1,\n",
    "\t\t\tactivation = \"relu\"))\n",
    "model.add(BatchNormalization())\n",
    "model.add(MaxPooling2D(pool_size=(2, 2),\n",
    "\t\t\tstrides=(2, 2),\n",
    "\t\t\tpadding=\"same\"))'''\n",
    "\n",
    "\n",
    "model.add(Flatten())\n",
    "\n",
    "model.add(Dense(128,\n",
    "\t\tactivation = \"relu\",\n",
    "\t\tkernel_initializer = \"uniform\"))\n",
    "model.add(BatchNormalization())\t\t\t\n",
    "\n",
    "model.add(Dense(64,\n",
    "\t\tactivation = \"relu\",\n",
    "\t\tkernel_initializer = \"uniform\"))\n",
    "model.add(BatchNormalization())\t\t\t\n",
    "\n",
    "model.add(Dense(156,\n",
    "\t\tactivation = \"softmax\",\n",
    "\t\tkernel_initializer = \"uniform\"))\t\t\t\n",
    "\t\t\t\n",
    "model.compile(optimizer = \"adam\",\n",
    "\t\tloss = \"categorical_crossentropy\",\n",
    "\t\tmetrics = [\"accuracy\"])\n",
    "\t\t\n",
    "print(model.summary())"
   ]
  },
  {
   "cell_type": "code",
   "execution_count": 24,
   "metadata": {},
   "outputs": [
    {
     "name": "stdout",
     "output_type": "stream",
     "text": [
      "WARNING:tensorflow:sample_weight modes were coerced from\n",
      "  ...\n",
      "    to  \n",
      "  ['...']\n",
      "WARNING:tensorflow:sample_weight modes were coerced from\n",
      "  ...\n",
      "    to  \n",
      "  ['...']\n",
      "Train for 965 steps, validate for 130 steps\n",
      "Epoch 1/50\n",
      "965/965 [==============================] - 342s 355ms/step - loss: 0.8138 - accuracy: 0.7646 - val_loss: 0.8009 - val_accuracy: 0.7585\n",
      "Epoch 2/50\n",
      "965/965 [==============================] - 370s 383ms/step - loss: 0.6724 - accuracy: 0.8025 - val_loss: 0.5850 - val_accuracy: 0.8237\n",
      "Epoch 3/50\n",
      "965/965 [==============================] - 377s 390ms/step - loss: 0.5922 - accuracy: 0.8265 - val_loss: 0.6639 - val_accuracy: 0.8044\n",
      "Epoch 4/50\n",
      "965/965 [==============================] - 372s 386ms/step - loss: 0.5435 - accuracy: 0.8403 - val_loss: 0.4217 - val_accuracy: 0.8734\n",
      "Epoch 5/50\n",
      "965/965 [==============================] - 387s 401ms/step - loss: 0.5146 - accuracy: 0.8478 - val_loss: 0.4973 - val_accuracy: 0.8454\n",
      "Epoch 6/50\n",
      "965/965 [==============================] - 390s 405ms/step - loss: 0.4953 - accuracy: 0.8549 - val_loss: 0.7556 - val_accuracy: 0.7922\n",
      "Epoch 7/50\n",
      "965/965 [==============================] - 392s 406ms/step - loss: 0.4735 - accuracy: 0.8603 - val_loss: 1.0643 - val_accuracy: 0.7120\n",
      "Epoch 8/50\n",
      "965/965 [==============================] - 397s 411ms/step - loss: 0.4555 - accuracy: 0.8672 - val_loss: 0.4296 - val_accuracy: 0.8694\n",
      "Epoch 9/50\n",
      "965/965 [==============================] - 389s 403ms/step - loss: 0.4422 - accuracy: 0.8688 - val_loss: 0.8168 - val_accuracy: 0.7740\n",
      "Epoch 10/50\n",
      "965/965 [==============================] - 375s 388ms/step - loss: 0.4273 - accuracy: 0.8744 - val_loss: 0.4904 - val_accuracy: 0.8585\n",
      "Epoch 11/50\n",
      "965/965 [==============================] - 369s 383ms/step - loss: 0.4174 - accuracy: 0.8759 - val_loss: 0.4743 - val_accuracy: 0.8593\n",
      "Epoch 12/50\n",
      "965/965 [==============================] - 360s 373ms/step - loss: 0.4056 - accuracy: 0.8787 - val_loss: 0.5862 - val_accuracy: 0.8371\n",
      "Epoch 13/50\n",
      "965/965 [==============================] - 395s 409ms/step - loss: 0.3980 - accuracy: 0.8821 - val_loss: 0.4967 - val_accuracy: 0.8518\n",
      "Epoch 14/50\n",
      "965/965 [==============================] - 379s 393ms/step - loss: 0.3862 - accuracy: 0.8846 - val_loss: 0.9486 - val_accuracy: 0.7413\n",
      "Epoch 15/50\n",
      "965/965 [==============================] - 395s 410ms/step - loss: 0.3800 - accuracy: 0.8865 - val_loss: 0.4860 - val_accuracy: 0.8572\n",
      "Epoch 16/50\n",
      "965/965 [==============================] - 387s 401ms/step - loss: 0.3709 - accuracy: 0.8893 - val_loss: 0.6703 - val_accuracy: 0.8073\n",
      "Epoch 17/50\n",
      "965/965 [==============================] - 385s 399ms/step - loss: 0.3665 - accuracy: 0.8907 - val_loss: 0.5544 - val_accuracy: 0.8456\n",
      "Epoch 18/50\n",
      "965/965 [==============================] - 383s 397ms/step - loss: 0.3586 - accuracy: 0.8922 - val_loss: 0.4335 - val_accuracy: 0.8710\n",
      "Epoch 19/50\n",
      "965/965 [==============================] - 380s 394ms/step - loss: 0.3508 - accuracy: 0.8927 - val_loss: 0.6512 - val_accuracy: 0.8311\n",
      "Epoch 20/50\n",
      "965/965 [==============================] - 365s 379ms/step - loss: 0.3492 - accuracy: 0.8944 - val_loss: 0.4952 - val_accuracy: 0.8566\n",
      "Epoch 21/50\n",
      "965/965 [==============================] - 355s 368ms/step - loss: 0.3455 - accuracy: 0.8947 - val_loss: 0.5375 - val_accuracy: 0.8525\n",
      "Epoch 22/50\n",
      "965/965 [==============================] - 435s 450ms/step - loss: 0.3389 - accuracy: 0.8970 - val_loss: 0.7034 - val_accuracy: 0.8076\n",
      "Epoch 23/50\n",
      "965/965 [==============================] - 397s 412ms/step - loss: 0.3318 - accuracy: 0.8980 - val_loss: 0.6843 - val_accuracy: 0.8165\n",
      "Epoch 24/50\n",
      "965/965 [==============================] - 391s 405ms/step - loss: 0.3307 - accuracy: 0.8997 - val_loss: 0.6427 - val_accuracy: 0.8260\n",
      "Epoch 25/50\n",
      "965/965 [==============================] - 386s 401ms/step - loss: 0.3230 - accuracy: 0.9010 - val_loss: 0.4437 - val_accuracy: 0.8718\n",
      "Epoch 26/50\n",
      "965/965 [==============================] - 369s 383ms/step - loss: 0.3175 - accuracy: 0.9026 - val_loss: 0.4419 - val_accuracy: 0.8660\n",
      "Epoch 27/50\n",
      "965/965 [==============================] - 366s 379ms/step - loss: 0.3143 - accuracy: 0.9030 - val_loss: 0.4650 - val_accuracy: 0.8703\n",
      "Epoch 28/50\n",
      "965/965 [==============================] - 362s 375ms/step - loss: 0.3117 - accuracy: 0.9044 - val_loss: 0.5958 - val_accuracy: 0.8447\n",
      "Epoch 29/50\n",
      "965/965 [==============================] - 359s 372ms/step - loss: 0.3095 - accuracy: 0.9046 - val_loss: 0.4374 - val_accuracy: 0.8743\n",
      "Epoch 30/50\n",
      "965/965 [==============================] - 382s 396ms/step - loss: 0.3008 - accuracy: 0.9070 - val_loss: 0.8183 - val_accuracy: 0.7925\n",
      "Epoch 31/50\n",
      "965/965 [==============================] - 388s 402ms/step - loss: 0.2998 - accuracy: 0.9076 - val_loss: 0.6711 - val_accuracy: 0.8244\n",
      "Epoch 32/50\n",
      "965/965 [==============================] - 376s 389ms/step - loss: 0.3025 - accuracy: 0.9061 - val_loss: 0.4967 - val_accuracy: 0.8683\n",
      "Epoch 33/50\n",
      "965/965 [==============================] - 395s 409ms/step - loss: 0.2971 - accuracy: 0.9082 - val_loss: 0.6584 - val_accuracy: 0.8278\n",
      "Epoch 34/50\n",
      "965/965 [==============================] - 394s 409ms/step - loss: 0.2972 - accuracy: 0.9078 - val_loss: 0.7835 - val_accuracy: 0.8078\n",
      "Epoch 35/50\n",
      "965/965 [==============================] - 389s 404ms/step - loss: 0.2903 - accuracy: 0.9091 - val_loss: 1.0684 - val_accuracy: 0.7447\n",
      "Epoch 36/50\n",
      "965/965 [==============================] - 366s 379ms/step - loss: 0.2848 - accuracy: 0.9120 - val_loss: 1.2315 - val_accuracy: 0.7107\n",
      "Epoch 37/50\n",
      "965/965 [==============================] - 372s 385ms/step - loss: 0.2845 - accuracy: 0.9118 - val_loss: 0.4619 - val_accuracy: 0.8708\n",
      "Epoch 38/50\n",
      "965/965 [==============================] - 396s 411ms/step - loss: 0.2775 - accuracy: 0.9134 - val_loss: 0.4730 - val_accuracy: 0.8678\n",
      "Epoch 39/50\n",
      "965/965 [==============================] - 372s 386ms/step - loss: 0.2800 - accuracy: 0.9136 - val_loss: 0.7056 - val_accuracy: 0.8215\n",
      "Epoch 40/50\n",
      "965/965 [==============================] - 394s 409ms/step - loss: 0.2776 - accuracy: 0.9130 - val_loss: 0.9791 - val_accuracy: 0.7641\n",
      "Epoch 41/50\n",
      "965/965 [==============================] - 395s 410ms/step - loss: 0.2753 - accuracy: 0.9129 - val_loss: 0.3748 - val_accuracy: 0.8918\n",
      "Epoch 42/50\n",
      "965/965 [==============================] - 393s 407ms/step - loss: 0.2708 - accuracy: 0.9157 - val_loss: 0.4833 - val_accuracy: 0.8624\n",
      "Epoch 43/50\n",
      "965/965 [==============================] - 396s 410ms/step - loss: 0.2755 - accuracy: 0.9137 - val_loss: 0.4329 - val_accuracy: 0.8804\n",
      "Epoch 44/50\n",
      "965/965 [==============================] - 385s 399ms/step - loss: 0.2679 - accuracy: 0.9147 - val_loss: 0.7053 - val_accuracy: 0.8256\n",
      "Epoch 45/50\n",
      "965/965 [==============================] - 416s 431ms/step - loss: 0.2659 - accuracy: 0.9163 - val_loss: 0.8293 - val_accuracy: 0.7921\n",
      "Epoch 46/50\n",
      "965/965 [==============================] - 405s 419ms/step - loss: 0.2686 - accuracy: 0.9145 - val_loss: 0.7209 - val_accuracy: 0.8145\n",
      "Epoch 47/50\n",
      "965/965 [==============================] - 410s 424ms/step - loss: 0.2612 - accuracy: 0.9172 - val_loss: 0.6074 - val_accuracy: 0.8447\n",
      "Epoch 48/50\n",
      "965/965 [==============================] - 413s 428ms/step - loss: 0.2601 - accuracy: 0.9177 - val_loss: 0.5046 - val_accuracy: 0.8645\n",
      "Epoch 49/50\n",
      "965/965 [==============================] - 410s 425ms/step - loss: 0.2608 - accuracy: 0.9170 - val_loss: 0.6088 - val_accuracy: 0.8409\n",
      "Epoch 50/50\n",
      "965/965 [==============================] - 413s 428ms/step - loss: 0.2569 - accuracy: 0.9185 - val_loss: 1.0871 - val_accuracy: 0.7421\n"
     ]
    }
   ],
   "source": [
    "res=model.fit_generator(\n",
    "\t\ttrainGenerator,\n",
    "\t\tepochs = 50,\n",
    "\t\tsteps_per_epoch = 965,\n",
    "\t\tvalidation_data = validation_generator,\n",
    "\t\tvalidation_steps = 130\n",
    "\t\t)"
   ]
  },
  {
   "cell_type": "code",
   "execution_count": 25,
   "metadata": {},
   "outputs": [
    {
     "data": {
      "image/png": "[encoded data removed]",
      "text/plain": [
       "<Figure size 432x288 with 1 Axes>"
      ]
     },
     "metadata": {
      "needs_background": "light"
     },
     "output_type": "display_data"
    },
    {
     "data": {
      "image/png": "[encoded data removed]",
      "text/plain": [
       "<Figure size 432x288 with 1 Axes>"
      ]
     },
     "metadata": {
      "needs_background": "light"
     },
     "output_type": "display_data"
    }
   ],
   "source": [
    "%matplotlib inline\n",
    "accu=res.history['accuracy']\n",
    "val_acc=res.history['val_accuracy']\n",
    "loss=res.history['loss']\n",
    "val_loss=res.history['val_loss']\n",
    "\n",
    "epochs=range(len(accu)) #No. of epochs\n",
    "\n",
    "import matplotlib.pyplot as plt\n",
    "plt.plot(epochs,accu,'r',label='Training Accuracy')\n",
    "plt.plot(epochs,val_acc,'g',label='Testing Accuracy')\n",
    "plt.legend()\n",
    "plt.figure()\n",
    "\n",
    "#Plot training and validation loss per epoch\n",
    "plt.plot(epochs,loss,'r',label='Training Loss')\n",
    "plt.plot(epochs,val_loss,'g',label='Testing Loss')\n",
    "plt.legend()\n",
    "plt.show()"
   ]
  },
  {
   "cell_type": "code",
   "execution_count": null,
   "metadata": {},
   "outputs": [],
   "source": []
  }
 ],
 "metadata": {
  "kernelspec": {
   "display_name": "Python 3",
   "language": "python",
   "name": "python3"
  },
  "language_info": {
   "codemirror_mode": {
    "name": "ipython",
    "version": 3
   },
   "file_extension": ".py",
   "mimetype": "text/x-python",
   "name": "python",
   "nbconvert_exporter": "python",
   "pygments_lexer": "ipython3",
   "version": "3.7.9"
  }
 },
 "nbformat": 4,
 "nbformat_minor": 4
}
